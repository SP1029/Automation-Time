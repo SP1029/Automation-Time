{
 "cells": [
  {
   "attachments": {},
   "cell_type": "markdown",
   "metadata": {},
   "source": [
    "## Assumptions\n",
    "- The browser being used is Chrome\n",
    "- You have set auto-log in for ChatGPT account on Chrome \n",
    "- Check by opening Chrome once that the window is full-screen, if not make it and then close it\n",
    "- No Chrome window/tab should be open before running code\n",
    "- No restrictions for this code in saving the response-files to the queries on your computer\n",
    "- The necessary variables below have been updated appropriately\n",
    "\n",
    "## Declarations\n",
    "- The code will access your App Data for Chrome\n",
    "- The writer of the code is not responsible for any legal consequences\n",
    "- The code may stop working after using a few times and will again start working in few hours, this may be since ChatGPT has put the account on hold tempoarily with the error message being - \"Something went wrong. If this issue persists please contact us through our help center at help.openai.com.\""
   ]
  },
  {
   "cell_type": "code",
   "execution_count": 1,
   "metadata": {},
   "outputs": [
    {
     "name": "stdout",
     "output_type": "stream",
     "text": [
      "Requirement already satisfied: selenium in c:\\shubham\\b-tech\\study\\extra\\self\\automation time\\automation-time\\env\\lib\\site-packages (4.10.0)\n",
      "Requirement already satisfied: urllib3[socks]<3,>=1.26 in c:\\shubham\\b-tech\\study\\extra\\self\\automation time\\automation-time\\env\\lib\\site-packages (from selenium) (2.0.3)\n",
      "Requirement already satisfied: trio~=0.17 in c:\\shubham\\b-tech\\study\\extra\\self\\automation time\\automation-time\\env\\lib\\site-packages (from selenium) (0.22.1)\n",
      "Requirement already satisfied: trio-websocket~=0.9 in c:\\shubham\\b-tech\\study\\extra\\self\\automation time\\automation-time\\env\\lib\\site-packages (from selenium) (0.10.3)\n",
      "Requirement already satisfied: certifi>=2021.10.8 in c:\\shubham\\b-tech\\study\\extra\\self\\automation time\\automation-time\\env\\lib\\site-packages (from selenium) (2023.5.7)\n",
      "Requirement already satisfied: attrs>=20.1.0 in c:\\shubham\\b-tech\\study\\extra\\self\\automation time\\automation-time\\env\\lib\\site-packages (from trio~=0.17->selenium) (23.1.0)\n",
      "Requirement already satisfied: sortedcontainers in c:\\shubham\\b-tech\\study\\extra\\self\\automation time\\automation-time\\env\\lib\\site-packages (from trio~=0.17->selenium) (2.4.0)\n",
      "Requirement already satisfied: idna in c:\\shubham\\b-tech\\study\\extra\\self\\automation time\\automation-time\\env\\lib\\site-packages (from trio~=0.17->selenium) (3.4)\n",
      "Requirement already satisfied: outcome in c:\\shubham\\b-tech\\study\\extra\\self\\automation time\\automation-time\\env\\lib\\site-packages (from trio~=0.17->selenium) (1.2.0)\n",
      "Requirement already satisfied: sniffio in c:\\shubham\\b-tech\\study\\extra\\self\\automation time\\automation-time\\env\\lib\\site-packages (from trio~=0.17->selenium) (1.3.0)\n",
      "Requirement already satisfied: cffi>=1.14 in c:\\shubham\\b-tech\\study\\extra\\self\\automation time\\automation-time\\env\\lib\\site-packages (from trio~=0.17->selenium) (1.15.1)\n",
      "Requirement already satisfied: exceptiongroup in c:\\shubham\\b-tech\\study\\extra\\self\\automation time\\automation-time\\env\\lib\\site-packages (from trio-websocket~=0.9->selenium) (1.1.2)\n",
      "Requirement already satisfied: wsproto>=0.14 in c:\\shubham\\b-tech\\study\\extra\\self\\automation time\\automation-time\\env\\lib\\site-packages (from trio-websocket~=0.9->selenium) (1.2.0)\n",
      "Requirement already satisfied: pysocks!=1.5.7,<2.0,>=1.5.6 in c:\\shubham\\b-tech\\study\\extra\\self\\automation time\\automation-time\\env\\lib\\site-packages (from urllib3[socks]<3,>=1.26->selenium) (1.7.1)\n",
      "Requirement already satisfied: pycparser in c:\\shubham\\b-tech\\study\\extra\\self\\automation time\\automation-time\\env\\lib\\site-packages (from cffi>=1.14->trio~=0.17->selenium) (2.21)\n",
      "Requirement already satisfied: h11<1,>=0.9.0 in c:\\shubham\\b-tech\\study\\extra\\self\\automation time\\automation-time\\env\\lib\\site-packages (from wsproto>=0.14->trio-websocket~=0.9->selenium) (0.14.0)\n",
      "Note: you may need to restart the kernel to use updated packages.\n",
      "Note: you may need to restart the kernel to use updated packages.\n"
     ]
    },
    {
     "name": "stderr",
     "output_type": "stream",
     "text": [
      "ERROR: Could not find a version that satisfies the requirement time (from versions: none)\n",
      "ERROR: No matching distribution found for time\n"
     ]
    }
   ],
   "source": [
    "# Installing Libraries\n",
    "\n",
    "%pip install selenium\n",
    "%pip install time"
   ]
  },
  {
   "cell_type": "code",
   "execution_count": 2,
   "metadata": {},
   "outputs": [],
   "source": [
    "# Enter your username i.e. C:\\Users\\stude\\AppData\\ In this case it would be 'stude'\n",
    "username = \"stude\""
   ]
  },
  {
   "cell_type": "code",
   "execution_count": 3,
   "metadata": {},
   "outputs": [],
   "source": [
    "# Set it to false if you don't want the operations being done in Chrome to be visible\n",
    "view_operation = True"
   ]
  },
  {
   "cell_type": "code",
   "execution_count": 4,
   "metadata": {},
   "outputs": [],
   "source": [
    "# Enter your queries in the format specified below:\n",
    "# Each query must be a different element of the list\n",
    "# Ensure to use \\n if you want to type on multiple lines\n",
    "\n",
    "queries = \\\n",
    "    [                                   \n",
    "        \"Hello ChatGPT\" + \"\\n\" +        \n",
    "        \"How are you?\" ,                            # Query 1\n",
    "        \"Could you please give me tips to study\"    # Query 2\n",
    "    ]"
   ]
  },
  {
   "cell_type": "code",
   "execution_count": 5,
   "metadata": {},
   "outputs": [],
   "source": [
    "# Setting Variables\n",
    "\n",
    "chrome_path = 'C:\\\\Users\\\\' + username + '\\\\AppData\\\\Local\\\\Google\\\\Chrome\\\\User Data'"
   ]
  },
  {
   "cell_type": "code",
   "execution_count": 6,
   "metadata": {},
   "outputs": [],
   "source": [
    "# Importing Libraries\n",
    "\n",
    "import time\n",
    "from selenium import webdriver\n",
    "from selenium.webdriver.common.by import By\n",
    "from selenium.webdriver.common.keys import Keys\n",
    "from selenium.webdriver import ActionChains"
   ]
  },
  {
   "cell_type": "code",
   "execution_count": 7,
   "metadata": {},
   "outputs": [],
   "source": [
    "# Opening Chrome with your profile\n",
    "\n",
    "my_options = webdriver.ChromeOptions() \n",
    "userdatadir = chrome_path\n",
    "if view_operation==False:\n",
    "    my_options.add_experimental_option(\"excludeSwitches\", ['enable-automation'])\n",
    "my_options.add_argument(f\"--user-data-dir={userdatadir}\")\n",
    "driver = webdriver.Chrome(options=my_options)"
   ]
  },
  {
   "cell_type": "code",
   "execution_count": 8,
   "metadata": {},
   "outputs": [],
   "source": [
    "# Opening Website\n",
    "\n",
    "driver.get('https://chat.openai.com/')"
   ]
  },
  {
   "cell_type": "code",
   "execution_count": 9,
   "metadata": {},
   "outputs": [],
   "source": [
    "# Waiting Functions Definations\n",
    "            \n",
    "# Waits for response to be typed\n",
    "def wait_response(driver):\n",
    "    flag = False\n",
    "    \n",
    "    while flag==False:\n",
    "        time.sleep(0.1)\n",
    "        try:\n",
    "            text = driver.find_element(by=By.CSS_SELECTOR, value=\"#__next > div.overflow-hidden.w-full.h-full.relative.flex.z-0 > div.relative.flex.h-full.max-w-full.flex-1.overflow-hidden > div > main > div.absolute.bottom-0.left-0.w-full.border-t.md\\:border-t-0.dark\\:border-white\\/20.md\\:border-transparent.md\\:dark\\:border-transparent.md\\:bg-vert-light-gradient.bg-white.dark\\:bg-gray-800.md\\:\\!bg-transparent.dark\\:md\\:bg-vert-dark-gradient.pt-2.md\\:pl-2.md\\:w-\\[calc\\(100\\%-\\.5rem\\)\\] > form > div > div:nth-child(1) > div > button > div\").text\n",
    "        except:\n",
    "            flag = False\n",
    "        else:\n",
    "            flag =  text=='Regenerate response'"
   ]
  },
  {
   "cell_type": "code",
   "execution_count": 10,
   "metadata": {},
   "outputs": [],
   "source": [
    "# Typing Function for query posting since for a new-line \"shift + enter\" is needed when browser is full screen\n",
    "\n",
    "def enter_query(query, prompt_box,driver):\n",
    "    for ch in query:\n",
    "        if ch!='\\n':\n",
    "            prompt_box.send_keys(ch)\n",
    "        else:\n",
    "            ActionChains(driver)\\\n",
    "                .key_down(Keys.SHIFT)\\\n",
    "                .send_keys(Keys.ENTER)\\\n",
    "                .key_up(Keys.SHIFT)\\\n",
    "                .perform()"
   ]
  },
  {
   "cell_type": "code",
   "execution_count": 11,
   "metadata": {},
   "outputs": [],
   "source": [
    "# Counter to keep track on number of queries posted\n",
    "# Used in bringing back the correct response corresponding to the query\n",
    "\n",
    "gbl_count = 0"
   ]
  },
  {
   "cell_type": "code",
   "execution_count": 12,
   "metadata": {},
   "outputs": [],
   "source": [
    "\n",
    "# Function to post query and get the response element back\n",
    "\n",
    "def make_query(driver, query, gbl_count):\n",
    "\n",
    "    i = gbl_count\n",
    "    \n",
    "    # Load Buttons\n",
    "    prompt_box = driver.find_element(by=By.CSS_SELECTOR, value=\"#prompt-textarea\")\n",
    "\n",
    "    # Make Query        \n",
    "    enter_query(query, prompt_box, driver)\n",
    "    \n",
    "    # Wait prompt end\n",
    "    prompt_box.send_keys(\"\\n\")\n",
    "    \n",
    "    # Wait for response to finish\n",
    "    wait_response(driver)\n",
    "    \n",
    "    # Return Response Element\n",
    "    response_element = driver.find_element(by=By.CSS_SELECTOR, value=f\"#__next > div.overflow-hidden.w-full.h-full.relative.flex.z-0 > div.relative.flex.h-full.max-w-full.flex-1.overflow-hidden > div > main > div.flex-1.overflow-hidden > div > div > div > div:nth-child({2*i}) > div > div.relative.flex.w-\\[calc\\(100\\%-50px\\)\\].flex-col.gap-1.md\\:gap-3.lg\\:w-\\[calc\\(100\\%-115px\\)\\] > div.flex.flex-grow.flex-col.gap-3 > div > div\")\n",
    "    return response_element"
   ]
  },
  {
   "cell_type": "code",
   "execution_count": 13,
   "metadata": {},
   "outputs": [
    {
     "name": "stdout",
     "output_type": "stream",
     "text": [
      "Response to Query 1 is:\n",
      "<p>Hello! I'm an AI language model, so I don't have feelings, but I'm here and ready to assist you. How can I help you today?</p>\n",
      "Response to Query 2 is:\n",
      "<p>Certainly! Here are some tips to help you study effectively:</p><ol><li><p>Set clear goals: Define what you want to achieve in your study session or overall academic pursuits. Having clear goals will keep you focused and motivated.</p></li><li><p>Create a study schedule: Plan your study sessions in advance and allocate specific time slots for each subject or topic. Follow the schedule consistently to develop a routine.</p></li><li><p>Find a suitable study environment: Choose a quiet, well-lit, and comfortable place to study where you can minimize distractions and maximize your concentration.</p></li><li><p>Break it down: Break your study material into smaller, manageable chunks. This approach makes it easier to digest information and prevents overwhelm.</p></li><li><p>Use active learning techniques: Instead of passively reading or listening, engage with the material actively. Take notes, ask questions, summarize concepts in your own words, and practice problem-solving.</p></li><li><p>Use a variety of resources: Utilize textbooks, online articles, videos, and other resources to gain a comprehensive understanding of the subject matter. Different resources can offer different perspectives and insights.</p></li><li><p>Take regular breaks: Allow yourself short breaks during study sessions to prevent mental fatigue. Taking breaks helps rejuvenate your mind and maintain focus when you return to studying.</p></li><li><p>Practice with past exams or quizzes: If available, work on previous exams or quizzes to familiarize yourself with the format and identify areas where you need more practice.</p></li><li><p>Seek clarification when needed: Don't hesitate to ask your teachers, classmates, or online communities for help if you encounter difficulties or have questions. Clarifying concepts will enhance your understanding.</p></li><li><p>Stay motivated: Find ways to stay motivated, such as rewarding yourself after completing a study session, visualizing your long-term goals, or studying with a study group to keep each other accountable.</p></li><li><p>Take care of yourself: Maintain a healthy lifestyle by getting enough sleep, eating nutritious meals, and exercising regularly. Physical and mental well-being greatly contribute to effective studying.</p></li><li><p>Review and revise: Regularly review the material you've studied to reinforce your understanding and retain the information in the long term. Spaced repetition techniques can be helpful for this purpose.</p></li></ol><p>Remember that everyone's study preferences and methods may vary, so feel free to adapt these tips to suit your individual needs and learning style. Good luck with your studies!</p>\n"
     ]
    }
   ],
   "source": [
    "# Main Function\n",
    "\n",
    "for i in range(len(queries)):\n",
    "        \n",
    "    # Store Response \n",
    "    gbl_count = gbl_count + 1\n",
    "    response_element = make_query(driver, queries[i], gbl_count)\n",
    "    \n",
    "    if response_element.text == \"Something went wrong. If this issue persists please contact us through our help center at help.openai.com.\":\n",
    "        print(f\"Error Occurred at {i+1}th Query\")\n",
    "        break\n",
    "    \n",
    "    html_resp = response_element.get_attribute('innerHTML')\n",
    "    print(\"Response to Query \" + str(i+1) + \" is:\")\n",
    "    print(html_resp)\n",
    "    f = open(f\"response_{i+1}.txt\", \"w\")\n",
    "    f.write(html_resp)\n",
    "    f.close()"
   ]
  }
 ],
 "metadata": {
  "kernelspec": {
   "display_name": "Python 3",
   "language": "python",
   "name": "python3"
  },
  "language_info": {
   "codemirror_mode": {
    "name": "ipython",
    "version": 3
   },
   "file_extension": ".py",
   "mimetype": "text/x-python",
   "name": "python",
   "nbconvert_exporter": "python",
   "pygments_lexer": "ipython3",
   "version": "3.11.0"
  },
  "orig_nbformat": 4
 },
 "nbformat": 4,
 "nbformat_minor": 2
}
