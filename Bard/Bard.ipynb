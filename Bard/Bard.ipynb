{
 "cells": [
  {
   "attachments": {},
   "cell_type": "markdown",
   "metadata": {},
   "source": [
    "## Assumptions\n",
    "- The browser being used is Chrome\n",
    "- You have set auto-log in for Bard account on Chrome \n",
    "- Check by opening Chrome once that the window is full-screen, if not make it and then close it\n",
    "- No Chrome window/tab should be open before running code\n",
    "- No restrictions for this code in saving the response-files to the queries on your computer\n",
    "- The necessary variables below have been updated appropriately\n",
    "\n",
    "## Declarations\n",
    "- The code will access your App Data for Chrome\n",
    "- The writer of the code is not responsible for any legal consequences\n",
    "- The code may stop working after using a few times and will again start working in few hours, this may be since Bard has put the account on hold tempoarily"
   ]
  },
  {
   "cell_type": "code",
   "execution_count": 1,
   "metadata": {},
   "outputs": [
    {
     "name": "stdout",
     "output_type": "stream",
     "text": [
      "Defaulting to user installation because normal site-packages is not writeable\n",
      "Requirement already satisfied: selenium in c:\\users\\stude\\appdata\\roaming\\python\\python310\\site-packages (4.10.0)\n",
      "Requirement already satisfied: urllib3[socks]<3,>=1.26 in c:\\users\\stude\\appdata\\roaming\\python\\python310\\site-packages (from selenium) (2.0.3)\n",
      "Requirement already satisfied: trio~=0.17 in c:\\users\\stude\\appdata\\roaming\\python\\python310\\site-packages (from selenium) (0.22.1)\n",
      "Requirement already satisfied: trio-websocket~=0.9 in c:\\users\\stude\\appdata\\roaming\\python\\python310\\site-packages (from selenium) (0.10.3)\n",
      "Requirement already satisfied: certifi>=2021.10.8 in c:\\users\\stude\\appdata\\roaming\\python\\python310\\site-packages (from selenium) (2023.5.7)\n",
      "Requirement already satisfied: attrs>=20.1.0 in c:\\users\\stude\\appdata\\roaming\\python\\python310\\site-packages (from trio~=0.17->selenium) (23.1.0)\n",
      "Requirement already satisfied: sortedcontainers in c:\\users\\stude\\appdata\\roaming\\python\\python310\\site-packages (from trio~=0.17->selenium) (2.4.0)\n",
      "Requirement already satisfied: idna in c:\\users\\stude\\appdata\\roaming\\python\\python310\\site-packages (from trio~=0.17->selenium) (3.4)\n",
      "Requirement already satisfied: outcome in c:\\users\\stude\\appdata\\roaming\\python\\python310\\site-packages (from trio~=0.17->selenium) (1.2.0)\n",
      "Requirement already satisfied: sniffio in c:\\users\\stude\\appdata\\roaming\\python\\python310\\site-packages (from trio~=0.17->selenium) (1.3.0)\n",
      "Requirement already satisfied: cffi>=1.14 in c:\\users\\stude\\appdata\\roaming\\python\\python310\\site-packages (from trio~=0.17->selenium) (1.15.1)\n",
      "Requirement already satisfied: exceptiongroup>=1.0.0rc9 in c:\\users\\stude\\appdata\\roaming\\python\\python310\\site-packages (from trio~=0.17->selenium) (1.1.2)\n",
      "Requirement already satisfied: wsproto>=0.14 in c:\\users\\stude\\appdata\\roaming\\python\\python310\\site-packages (from trio-websocket~=0.9->selenium) (1.2.0)\n",
      "Requirement already satisfied: pysocks!=1.5.7,<2.0,>=1.5.6 in c:\\users\\stude\\appdata\\roaming\\python\\python310\\site-packages (from urllib3[socks]<3,>=1.26->selenium) (1.7.1)\n",
      "Requirement already satisfied: pycparser in c:\\users\\stude\\appdata\\roaming\\python\\python310\\site-packages (from cffi>=1.14->trio~=0.17->selenium) (2.21)\n",
      "Requirement already satisfied: h11<1,>=0.9.0 in c:\\users\\stude\\appdata\\roaming\\python\\python310\\site-packages (from wsproto>=0.14->trio-websocket~=0.9->selenium) (0.14.0)\n",
      "Note: you may need to restart the kernel to use updated packages.\n",
      "Defaulting to user installation because normal site-packages is not writeable\n",
      "Note: you may need to restart the kernel to use updated packages.\n"
     ]
    },
    {
     "name": "stderr",
     "output_type": "stream",
     "text": [
      "ERROR: Could not find a version that satisfies the requirement time (from versions: none)\n",
      "ERROR: No matching distribution found for time\n"
     ]
    }
   ],
   "source": [
    "# Installing Libraries\n",
    "\n",
    "%pip install selenium\n",
    "%pip install time"
   ]
  },
  {
   "cell_type": "code",
   "execution_count": 2,
   "metadata": {},
   "outputs": [],
   "source": [
    "# Enter your username i.e. C:\\Users\\stude\\AppData\\ In this case it would be 'stude'\n",
    "username = \"stude\""
   ]
  },
  {
   "cell_type": "code",
   "execution_count": 3,
   "metadata": {},
   "outputs": [],
   "source": [
    "# Set it to false if you don't want the operations being done in Chrome to be visible\n",
    "view_operation = True"
   ]
  },
  {
   "cell_type": "code",
   "execution_count": 4,
   "metadata": {},
   "outputs": [],
   "source": [
    "# Enter your queries in the format specified below:\n",
    "# Each query must be a different element of the list\n",
    "# Ensure to use \\n if you want to type on multiple lines\n",
    "\n",
    "queries = \\\n",
    "    [                                   \n",
    "        \"Hello Bard\" + \"\\n\" +        \n",
    "        \"How are you?\" ,                            # Query 1\n",
    "        \"Could you please give me tips to study\"    # Query 2\n",
    "    ]"
   ]
  },
  {
   "cell_type": "code",
   "execution_count": 5,
   "metadata": {},
   "outputs": [],
   "source": [
    "# Setting Variables\n",
    "\n",
    "chrome_path = 'C:\\\\Users\\\\' + username + '\\\\AppData\\\\Local\\\\Google\\\\Chrome\\\\User Data'"
   ]
  },
  {
   "cell_type": "code",
   "execution_count": 6,
   "metadata": {},
   "outputs": [],
   "source": [
    "# Importing Libraries\n",
    "\n",
    "import time\n",
    "from selenium import webdriver\n",
    "from selenium.webdriver.common.by import By\n",
    "from selenium.webdriver.common.keys import Keys\n",
    "from selenium.webdriver import ActionChains"
   ]
  },
  {
   "cell_type": "code",
   "execution_count": 7,
   "metadata": {},
   "outputs": [],
   "source": [
    "# Opening Chrome with your profile\n",
    "\n",
    "my_options = webdriver.ChromeOptions() \n",
    "userdatadir = chrome_path\n",
    "if view_operation==False:\n",
    "    my_options.add_experimental_option(\"excludeSwitches\", ['enable-automation'])\n",
    "my_options.add_argument(f\"--user-data-dir={userdatadir}\")\n",
    "driver = webdriver.Chrome(options=my_options)"
   ]
  },
  {
   "cell_type": "code",
   "execution_count": 8,
   "metadata": {},
   "outputs": [],
   "source": [
    "# Opening Website\n",
    "\n",
    "driver.get('https://bard.google.com/')"
   ]
  },
  {
   "cell_type": "code",
   "execution_count": 9,
   "metadata": {},
   "outputs": [],
   "source": [
    "# Waiting Functions Definations\n",
    "            \n",
    "# Waiting for prompt-box to load\n",
    "def wait_prompt(driver):\n",
    "    flag = False\n",
    "    \n",
    "    while flag==False:\n",
    "        time.sleep(0.1)\n",
    "        try:\n",
    "            prompt_box = driver.find_element(by=By.CSS_SELECTOR, value=\"#mat-input-0\")\n",
    "        except:\n",
    "            flag = False\n",
    "        else:\n",
    "            flag = True\n",
    "            \n",
    "# Waits for response to be typed\n",
    "def wait_response(driver,i):\n",
    "    flag = False\n",
    "    \n",
    "    while flag==False:\n",
    "        time.sleep(0.1)\n",
    "        try:\n",
    "            img = driver.find_element(by=By.XPATH, value=f'/html/body/chat-app/side-navigation/mat-sidenav-container/mat-sidenav-content/main/chat-window/div[1]/div[1]/infinite-scroller/div[{i}]/model-response/div/response-container/div/div[2]/div[1]/img')\n",
    "        except:\n",
    "            flag = False\n",
    "        else:\n",
    "            source = img.get_attribute('src')\n",
    "            flag =  source==\"https://www.gstatic.com/lamda/images/sparkle_resting_v2_1ff6f6a71f2d298b1a31.gif\""
   ]
  },
  {
   "cell_type": "code",
   "execution_count": 10,
   "metadata": {},
   "outputs": [],
   "source": [
    "# Typing Function for query posting since for a new-line \"shift + enter\" is needed when browser is full screen\n",
    "\n",
    "def enter_query(query, prompt_box,driver):\n",
    "    for ch in query:\n",
    "        if ch!='\\n':\n",
    "            prompt_box.send_keys(ch)\n",
    "        else:\n",
    "            ActionChains(driver)\\\n",
    "                .key_down(Keys.SHIFT)\\\n",
    "                .send_keys(Keys.ENTER)\\\n",
    "                .key_up(Keys.SHIFT)\\\n",
    "                .perform()"
   ]
  },
  {
   "cell_type": "code",
   "execution_count": 11,
   "metadata": {},
   "outputs": [],
   "source": [
    "# Counter to keep track on number of queries posted\n",
    "# Used in bringing back the correct response corresponding to the query\n",
    "\n",
    "gbl_count = 0"
   ]
  },
  {
   "cell_type": "code",
   "execution_count": 12,
   "metadata": {},
   "outputs": [],
   "source": [
    "\n",
    "# Function to post query and get the response element back\n",
    "\n",
    "def make_query(driver, query, gbl_count):\n",
    "\n",
    "    i = gbl_count\n",
    "    \n",
    "    # Load Buttons\n",
    "    wait_prompt(driver)\n",
    "    prompt_box = driver.find_element(by=By.CSS_SELECTOR, value=\"#mat-input-0\")\n",
    "\n",
    "    # Make Query        \n",
    "    enter_query(query, prompt_box, driver)\n",
    "    prompt_box.send_keys(\"\\n\")\n",
    "    \n",
    "    # Wait for response to finish\n",
    "    wait_response(driver,i)\n",
    "    \n",
    "    # Return Response Element\n",
    "    response_element = driver.find_element(by=By.XPATH, value=f\"/html/body/chat-app/side-navigation/mat-sidenav-container/mat-sidenav-content/main/chat-window/div[1]/div[1]/infinite-scroller/div[{i}]/model-response/div/response-container/div/div[2]/div[2]/div/message-content/div\")\n",
    "    return response_element"
   ]
  },
  {
   "cell_type": "code",
   "execution_count": 13,
   "metadata": {},
   "outputs": [
    {
     "name": "stdout",
     "output_type": "stream",
     "text": [
      "Response to Query 1 is:\n",
      "<p>Hi there! I am doing well, thank you for asking. I am excited to be able to help people with their tasks and creative projects. How are you doing today?</p>\n",
      "Response to Query 2 is:\n",
      "<p>Sure, here are some tips to study effectively:</p><ul>\n",
      "<li><strong>Get organized.</strong> This means having a study space that is free of distractions and having all of your materials organized and ready to go. You may also want to create a study schedule or plan to help you stay on track.</li>\n",
      "<li><strong>Take notes.</strong> This is an essential way to capture the information that you are learning in class. There are many different ways to take notes, so find a method that works best for you.</li>\n",
      "<li><strong>Review your notes regularly.</strong> This will help you to solidify the information that you have learned and to identify any areas where you need more help.</li>\n",
      "<li><strong>Create practice problems or questions.</strong> This is a great way to test your understanding of the material and to identify any gaps in your knowledge.</li>\n",
      "<li><strong>Study with others.</strong> This can be a great way to stay motivated and to get help from others if you are struggling with a particular concept.</li>\n",
      "<li><strong>Take breaks.</strong> It is important to take breaks when you are studying to avoid burnout. Get up and move around, or take a few minutes to relax and clear your head.</li>\n",
      "<li><strong>Reward yourself.</strong> When you reach a study goal, give yourself a small reward. This will help you to stay motivated and to make studying more enjoyable.</li>\n",
      "</ul><p>Here are some additional tips that you may find helpful:</p><ul>\n",
      "<li><strong>Use active learning techniques.</strong> This means engaging with the material in a way that goes beyond simply reading or listening. Some examples of active learning techniques include:\n",
      "<ul>\n",
      "<li><strong>Creating concept maps or mind maps.</strong></li>\n",
      "<li><strong>Quizzing yourself.</strong></li>\n",
      "<li><strong>Teaching the material to someone else.</strong></li>\n",
      "<li><strong>Working on practice problems.</strong></li>\n",
      "</ul>\n",
      "</li>\n",
      "<li><strong>Find a quiet place to study.</strong> This will help you to focus and to avoid distractions.</li>\n",
      "<li><strong>Set realistic goals for yourself.</strong> Don't try to cram everything into one study session. Instead, break your study time into smaller, more manageable chunks.</li>\n",
      "<li><strong>Take care of yourself.</strong> Make sure you are getting enough sleep, eating healthy foods, and exercising regularly. This will help you to stay focused and to learn more effectively.</li>\n",
      "</ul><p>I hope these tips help you to study more effectively!</p>\n"
     ]
    }
   ],
   "source": [
    "# Main Function\n",
    "\n",
    "for i in range(len(queries)):\n",
    "        \n",
    "    # Store Response \n",
    "    gbl_count = gbl_count + 1\n",
    "    response_element = make_query(driver, queries[i], gbl_count)\n",
    "    \n",
    "    html_resp = response_element.get_attribute('innerHTML')\n",
    "    print(\"Response to Query \" + str(i+1) + \" is:\")\n",
    "    print(html_resp)\n",
    "    f = open(f\"response_{i+1}.txt\", \"w\")\n",
    "    f.write(html_resp)\n",
    "    f.close()"
   ]
  },
  {
   "cell_type": "code",
   "execution_count": null,
   "metadata": {},
   "outputs": [],
   "source": []
  },
  {
   "cell_type": "code",
   "execution_count": null,
   "metadata": {},
   "outputs": [],
   "source": []
  }
 ],
 "metadata": {
  "kernelspec": {
   "display_name": "Python 3",
   "language": "python",
   "name": "python3"
  },
  "language_info": {
   "codemirror_mode": {
    "name": "ipython",
    "version": 3
   },
   "file_extension": ".py",
   "mimetype": "text/x-python",
   "name": "python",
   "nbconvert_exporter": "python",
   "pygments_lexer": "ipython3",
   "version": "3.10.11"
  },
  "orig_nbformat": 4
 },
 "nbformat": 4,
 "nbformat_minor": 2
}
