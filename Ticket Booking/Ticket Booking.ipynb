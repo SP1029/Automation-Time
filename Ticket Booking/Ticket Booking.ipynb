{
 "cells": [
  {
   "cell_type": "markdown",
   "metadata": {},
   "source": [
    "## Assumptions\n",
    "- The browser being used is Chrome \n",
    "- Check by opening Chrome once that the window is full-screen, if not make it and then close it\n",
    "- No Chrome window/tab should be open before running code\n",
    "- You have installed Pytesseract\n",
    "- The necessary variables below have been updated appropriately\n",
    "- For Booking Tatkal Category Ticket\n",
    "\n",
    "## Declarations\n",
    "- The code will access your App Data for Chrome\n",
    "- The writer of the code is not responsible for any legal consequences\n",
    "- The code may stop working after using a few times and will again start working in few hours, this may be since ChatGPT has put the account on hold tempoarily with the error message being - \"Something went wrong. If this issue persists please contact us through our help center at help.openai.com.\""
   ]
  },
  {
   "cell_type": "code",
   "execution_count": 1,
   "metadata": {},
   "outputs": [],
   "source": [
    "# Journey Details\n",
    "FROM_STN = \"btd\"\n",
    "TO_STN = \"bvi\"\n",
    "DATE = \"08/07/2023\"  # Enter in same format as given\n",
    "\n",
    "# Login Details\n",
    "USERNAME = \"\"\n",
    "PASSWORD = \"\""
   ]
  },
  {
   "cell_type": "code",
   "execution_count": 2,
   "metadata": {},
   "outputs": [],
   "source": [
    "# Enter your username i.e. C:\\Users\\stude\\AppData\\ In this case it would be 'stude'\n",
    "username = \"stude\""
   ]
  },
  {
   "cell_type": "code",
   "execution_count": 3,
   "metadata": {},
   "outputs": [],
   "source": [
    "# Set it to false if you don't want the operations being done in Chrome to be visible\n",
    "view_operation = True"
   ]
  },
  {
   "cell_type": "code",
   "execution_count": 4,
   "metadata": {},
   "outputs": [],
   "source": [
    "# Enter the path to Pytesseract on your local machine\n",
    "pytess_path = r'C:\\Program Files\\Tesseract-OCR\\tesseract.exe'"
   ]
  },
  {
   "cell_type": "code",
   "execution_count": 5,
   "metadata": {},
   "outputs": [],
   "source": [
    "# Setting Variables\n",
    "\n",
    "chrome_path = 'C:\\\\Users\\\\' + username + '\\\\AppData\\\\Local\\\\Google\\\\Chrome\\\\User Data'"
   ]
  },
  {
   "cell_type": "code",
   "execution_count": 6,
   "metadata": {},
   "outputs": [],
   "source": [
    "# Libraries for Captcha\n",
    "\n",
    "from PIL import Image\n",
    "import io\n",
    "import pytesseract\n",
    "pytesseract.pytesseract.tesseract_cmd = pytess_path"
   ]
  },
  {
   "cell_type": "code",
   "execution_count": 7,
   "metadata": {},
   "outputs": [],
   "source": [
    "# Importing Libraries for Navigation\n",
    "\n",
    "import time\n",
    "from selenium import webdriver\n",
    "from selenium.webdriver.common.by import By\n",
    "from selenium.webdriver.common.keys import Keys\n",
    "from selenium.webdriver.support.ui import WebDriverWait\n",
    "from selenium.webdriver.support.expected_conditions import presence_of_element_located"
   ]
  },
  {
   "cell_type": "code",
   "execution_count": 8,
   "metadata": {},
   "outputs": [],
   "source": [
    "# Opening Chrome with your profile\n",
    "\n",
    "my_options = webdriver.ChromeOptions() \n",
    "userdatadir = chrome_path\n",
    "if view_operation==False:\n",
    "    my_options.add_experimental_option(\"excludeSwitches\", ['enable-automation'])\n",
    "my_options.add_argument(f\"--user-data-dir={userdatadir}\")\n",
    "driver = webdriver.Chrome(options=my_options)"
   ]
  },
  {
   "cell_type": "code",
   "execution_count": 9,
   "metadata": {},
   "outputs": [],
   "source": [
    "# Opening Website\n",
    "\n",
    "driver.get('https://www.irctc.co.in/nget/train-search')"
   ]
  },
  {
   "cell_type": "code",
   "execution_count": 10,
   "metadata": {},
   "outputs": [],
   "source": [
    "# Waiting Functions Definations\n",
    "\n",
    "# Waits until the element appears\n",
    "def wait_elem(driver, path):\n",
    "    flag = False\n",
    "    \n",
    "    while flag==False:\n",
    "        time.sleep(0.01)\n",
    "        try:\n",
    "            driver.find_element(by=By.XPATH, value=path)\n",
    "        except:\n",
    "            flag = False\n",
    "        else:\n",
    "            flag = True\n",
    "  \n",
    "# Waits until element is gone   \n",
    "def wait_elem_gone(driver, path):\n",
    "    flag = False\n",
    "    \n",
    "    while flag==False:\n",
    "        time.sleep(0.01)\n",
    "        try:\n",
    "            driver.find_element(by=By.XPATH, value=path)\n",
    "        except:\n",
    "            flag = True\n",
    "        else:\n",
    "            flag = False\n",
    "\n",
    "# Waits until the text present in the element gets empty\n",
    "def wait_empty(elem):\n",
    "    flag = False\n",
    "    \n",
    "    while flag==False:\n",
    "        flag = (elem.text != \"\")\n",
    "        time.sleep(0.01)"
   ]
  },
  {
   "cell_type": "code",
   "execution_count": 11,
   "metadata": {},
   "outputs": [],
   "source": [
    "# Entering Login Details\n",
    "\n",
    "login_btn = driver.find_element(by=By.XPATH, value=\"/html/body/app-root/app-home/div[1]/app-header/div[2]/div[2]/div[1]/a[1]\")\n",
    "login_btn.click()\n",
    "wait_elem(driver, \"/html/body/app-root/app-home/div[3]/app-login/p-dialog[1]/div/div/div[2]/div[2]/div/div[2]/div[2]/div[2]/form/div[1]/input\")\n",
    "user_box = driver.find_element(by=By.XPATH, value=\"/html/body/app-root/app-home/div[3]/app-login/p-dialog[1]/div/div/div[2]/div[2]/div/div[2]/div[2]/div[2]/form/div[1]/input\")\n",
    "user_box.click()\n",
    "user_box.send_keys(USERNAME)\n",
    "wait_elem(driver, \"/html/body/app-root/app-home/div[3]/app-login/p-dialog[1]/div/div/div[2]/div[2]/div/div[2]/div[2]/div[2]/form/div[2]/input\")\n",
    "pass_box = driver.find_element(by=By.XPATH, value=\"/html/body/app-root/app-home/div[3]/app-login/p-dialog[1]/div/div/div[2]/div[2]/div/div[2]/div[2]/div[2]/form/div[2]/input\")\n",
    "pass_box.click()\n",
    "pass_box.send_keys(PASSWORD)\n",
    "wait_elem(driver, \"/html/body/app-root/app-home/div[3]/app-login/p-dialog[1]/div/div/div[2]/div[2]/div/div[2]/div[2]/div[2]/form/div[4]/div/app-captcha/div/div/div[2]/span[1]/img\")"
   ]
  },
  {
   "cell_type": "code",
   "execution_count": 12,
   "metadata": {},
   "outputs": [],
   "source": [
    "# Decoding Captcha\n",
    "\n",
    "login_cap = driver.find_element(by=By.XPATH, value=\"/html/body/app-root/app-home/div[3]/app-login/p-dialog[1]/div/div/div[2]/div[2]/div/div[2]/div[2]/div[2]/form/div[4]/div/app-captcha/div/div/div[2]/span[1]/img\")\n",
    "login_cap_png = login_cap.screenshot_as_png\n",
    "login_cap_img = Image.open(io.BytesIO(login_cap_png))\n",
    "login_cap_txt = pytesseract.image_to_string(login_cap_img)"
   ]
  },
  {
   "cell_type": "code",
   "execution_count": 13,
   "metadata": {},
   "outputs": [],
   "source": [
    "# Entering Captcha\n",
    "\n",
    "login_cap_box = driver.find_element(by=By.XPATH, value=\"/html/body/app-root/app-home/div[3]/app-login/p-dialog[1]/div/div/div[2]/div[2]/div/div[2]/div[2]/div[2]/form/div[4]/div/app-captcha/div/div/input\")\n",
    "login_cap_box.click()\n",
    "login_cap_box.send_keys(login_cap_txt)"
   ]
  },
  {
   "cell_type": "code",
   "execution_count": 14,
   "metadata": {},
   "outputs": [],
   "source": [
    "# Locating and Assigning Elements for Journey Details\n",
    "\n",
    "wait_elem(driver, \"/html/body/app-root/app-home/div[3]/div/app-main-page/div/div/div[1]/div[2]/div[1]/app-jp-input/div/form/div[2]/div[1]/div[1]/p-autocomplete/span/input\")\n",
    "from_box = driver.find_element(by=By.XPATH, value=\"/html/body/app-root/app-home/div[3]/div/app-main-page/div/div/div[1]/div[2]/div[1]/app-jp-input/div/form/div[2]/div[1]/div[1]/p-autocomplete/span/input\")\n",
    "date_box = driver.find_element(by=By.XPATH, value=\"/html/body/app-root/app-home/div[3]/div/app-main-page/div/div/div[1]/div[2]/div[1]/app-jp-input/div/form/div[2]/div[2]/div[1]/p-calendar/span/input\")\n",
    "to_box = driver.find_element(by=By.XPATH, value=\"/html/body/app-root/app-home/div[3]/div/app-main-page/div/div/div[1]/div[2]/div[1]/app-jp-input/div/form/div[2]/div[1]/div[2]/p-autocomplete/span/input\")\n",
    "quota_drop_btn = driver.find_element(by=By.XPATH, value=\"/html/body/app-root/app-home/div[3]/div/app-main-page/div/div/div[1]/div[2]/div[1]/app-jp-input/div/form/div[3]/div/div/p-dropdown/div/div[3]/span\")\n",
    "submit_button = driver.find_element(by=By.XPATH,value=\"/html/body/app-root/app-home/div[3]/div/app-main-page/div/div/div[1]/div[2]/div[1]/app-jp-input/div/form/div[5]/div[1]/button\")\n",
    "misc_heading = driver.find_element(by=By.XPATH, value=\"/html/body/app-root/app-home/div[3]/div/app-main-page/div/div/div[1]/div[2]/div[1]/app-jp-input/div/div/label\")"
   ]
  },
  {
   "cell_type": "code",
   "execution_count": 15,
   "metadata": {},
   "outputs": [],
   "source": [
    "# Entering From Station Details\n",
    "\n",
    "from_box.click()\n",
    "from_box.send_keys(FROM_STN)\n",
    "wait_elem(driver, \"/html/body/app-root/app-home/div[3]/div/app-main-page/div/div/div[1]/div[2]/div[1]/app-jp-input/div/form/div[2]/div[1]/div[1]/p-autocomplete/span/div/ul/li\")\n",
    "from_box.click()\n",
    "from_box.send_keys(\"\\t\")"
   ]
  },
  {
   "cell_type": "code",
   "execution_count": 16,
   "metadata": {},
   "outputs": [],
   "source": [
    "# Entering Date of Journey\n",
    "\n",
    "date_box.click()\n",
    "date_box.send_keys(\"\\b\\b\\b\\b\\b\\b\\b\\b\\b\\b\" + DATE)\n",
    "wait_elem(driver, \"/html/body/app-root/app-home/div[3]/div/app-main-page/div/div/div[1]/div[2]/div[1]/app-jp-input/div/form/div[2]/div[2]/div[1]/p-calendar/span/div\")\n",
    "misc_heading.click()"
   ]
  },
  {
   "cell_type": "code",
   "execution_count": 17,
   "metadata": {},
   "outputs": [],
   "source": [
    "# Entering To Station Details\n",
    "\n",
    "misc_heading.click()\n",
    "to_box.clear()\n",
    "to_box.send_keys(TO_STN)\n",
    "# Wait for drop down\n",
    "wait_elem(driver, \"/html/body/app-root/app-home/div[3]/div/app-main-page/div/div/div[1]/div[2]/div[1]/app-jp-input/div/form/div[2]/div[1]/div[2]/p-autocomplete/span/div/ul/li\")\n",
    "to_box.click()\n",
    "to_box.send_keys(\"\\t\")"
   ]
  },
  {
   "cell_type": "code",
   "execution_count": 18,
   "metadata": {},
   "outputs": [],
   "source": [
    "# Selecting TATKAL and proceeding to train details page\n",
    "\n",
    "quota_drop_btn.click()\n",
    "wait_elem(driver, \"/html/body/app-root/app-home/div[3]/div/app-main-page/div/div/div[1]/div[2]/div[1]/app-jp-input/div/form/div[3]/div/div/p-dropdown/div/div[4]/div/ul/p-dropdownitem[5]/li/span\")\n",
    "quota_tatkal = driver.find_element(by=By.XPATH, value=\"/html/body/app-root/app-home/div[3]/div/app-main-page/div/div/div[1]/div[2]/div[1]/app-jp-input/div/form/div[3]/div/div/p-dropdown/div/div[4]/div/ul/p-dropdownitem[5]/li/span\")\n",
    "quota_tatkal.click()\n",
    "\n",
    "submit_button.click()"
   ]
  }
 ],
 "metadata": {
  "kernelspec": {
   "display_name": "Python 3",
   "language": "python",
   "name": "python3"
  },
  "language_info": {
   "codemirror_mode": {
    "name": "ipython",
    "version": 3
   },
   "file_extension": ".py",
   "mimetype": "text/x-python",
   "name": "python",
   "nbconvert_exporter": "python",
   "pygments_lexer": "ipython3",
   "version": "3.11.0"
  },
  "orig_nbformat": 4
 },
 "nbformat": 4,
 "nbformat_minor": 2
}
